{
  "nbformat": 4,
  "nbformat_minor": 0,
  "metadata": {
    "colab": {
      "private_outputs": true,
      "provenance": [],
      "authorship_tag": "ABX9TyOD47qga4kTJzVMG+8eNQp9",
      "include_colab_link": true
    },
    "kernelspec": {
      "name": "python3",
      "display_name": "Python 3"
    },
    "language_info": {
      "name": "python"
    }
  },
  "cells": [
    {
      "cell_type": "markdown",
      "metadata": {
        "id": "view-in-github",
        "colab_type": "text"
      },
      "source": [
        "<a href=\"https://colab.research.google.com/github/kangyunghun/study/blob/main/Business%20Analytics%20Assignment3%2020172911%20%EA%B2%BD%EC%98%81%ED%95%99%EA%B3%BC%20%EA%B0%95%EC%98%81%ED%9B%88.ipynb\" target=\"_parent\"><img src=\"https://colab.research.google.com/assets/colab-badge.svg\" alt=\"Open In Colab\"/></a>"
      ]
    },
    {
      "cell_type": "markdown",
      "source": [
        "### 1. Keras 를 활용한 인공 신경망 구현"
      ],
      "metadata": {
        "id": "vUkxZNVWHkXx"
      }
    },
    {
      "cell_type": "code",
      "execution_count": null,
      "metadata": {
        "id": "1Uw7xYEi-yYy"
      },
      "outputs": [],
      "source": [
        "#!pip install tensorflow\n",
        "\n",
        "import tensorflow as tf\n",
        "from sklearn import datasets\n",
        "import matplotlib.pyplot as plt\n",
        "import numpy as np\n",
        "from sklearn.model_selection import train_test_split\n",
        "from tensorflow import keras\n",
        "from sklearn.metrics import confusion_matrix\n",
        "from sklearn.metrics import classification_report\n",
        "\n",
        "dataset = datasets.load_digits()\n",
        "x_data = dataset.data\n",
        "y_data = dataset.target\n",
        "\n",
        "# y_data = (dataset.target).astype(np.float32)\n",
        "x_data = (dataset.data).astype(np.float32)\n",
        "\n",
        "x_train, x_test, y_train, y_test = train_test_split(x_data, y_data,\n",
        "                                        test_size=0.0055, random_state=7777)\n",
        "x_train /= 255\n",
        "x_test /= 255\n",
        "\n",
        "y_train = tf.keras.utils.to_categorical(y_train, 10) \n",
        "y_test = tf.keras.utils.to_categorical(y_test, 10)\n",
        "\n",
        "\n",
        "model = keras.Sequential([\n",
        "    keras.layers.Flatten(input_dim=x_train.shape[1]),\n",
        "    keras.layers.Dense(128, activation='relu'),\n",
        "    keras.layers.Dense(10, activation='softmax')\n",
        "])\n",
        "\n",
        "model.compile(optimizer = 'SGD', loss = 'categorical_crossentropy')\n",
        "model.fit(x_train, y_train, epochs= 100)\n",
        "predictions = model.predict(x_test)"
      ]
    },
    {
      "cell_type": "markdown",
      "source": [
        "### 2. 테스트 이미지 출력 및 정답과 예측 값 출력"
      ],
      "metadata": {
        "id": "MoziEhnXHxJZ"
      }
    },
    {
      "cell_type": "code",
      "source": [
        "predictions_labels = []\n",
        "\n",
        "for p in predictions:\n",
        "    predictions_labels.append(np.argmax(p))\n",
        "    \n",
        "\n",
        "y_test_labels = []\n",
        "\n",
        "for p in range(0,len(y_test)):\n",
        "    y_test_labels.append(np.argmax(y_test[p]))\n",
        "\n",
        "for i in range(0,len(x_test)) : \n",
        "    plt.figure(i)\n",
        "    plt.imshow(x_test[i].reshape(8,8))\n",
        "    plt.title(f\"x_test[{i}]\")\n",
        "    plt.colorbar()\n",
        "    plt.show()\n",
        "    print(\"정답:\", y_test_labels[i])\n",
        "    print(\"예측 값:\", predictions_labels[i])"
      ],
      "metadata": {
        "id": "g17eGNoYElbE"
      },
      "execution_count": null,
      "outputs": []
    },
    {
      "cell_type": "markdown",
      "source": [
        "### 3. Confusion matrix와 Performance report 생성"
      ],
      "metadata": {
        "id": "3q0F7jMiH-cK"
      }
    },
    {
      "cell_type": "code",
      "source": [
        "print(\"Confusion matrix:\",'\\n',confusion_matrix(y_test_labels,predictions_labels))\n",
        "print('\\n')\n",
        "print(\"classification_report:\",'\\n',classification_report(y_test_labels, predictions_labels))"
      ],
      "metadata": {
        "id": "nA2GnuEqH8fB"
      },
      "execution_count": null,
      "outputs": []
    }
  ]
}