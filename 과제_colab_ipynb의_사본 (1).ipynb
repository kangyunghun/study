{
  "nbformat": 4,
  "nbformat_minor": 0,
  "metadata": {
    "colab": {
      "provenance": []
    },
    "kernelspec": {
      "name": "python3",
      "display_name": "Python 3"
    },
    "language_info": {
      "name": "python"
    },
    "gpuClass": "standard"
  },
  "cells": [
    {
      "cell_type": "markdown",
      "source": [
        "### 1. Keras 를 활용한 인공 신경망 구현"
      ],
      "metadata": {
        "id": "vUkxZNVWHkXx"
      }
    },
    {
      "cell_type": "code",
      "execution_count": 1,
      "metadata": {
        "id": "1Uw7xYEi-yYy",
        "colab": {
          "base_uri": "https://localhost:8080/",
          "height": 0
        },
        "outputId": "b36b3166-1fd5-4bf3-d0d6-a69de9eb0c4c"
      },
      "outputs": [
        {
          "output_type": "stream",
          "name": "stdout",
          "text": [
            "Epoch 1/100\n",
            "56/56 [==============================] - 1s 3ms/step - loss: 2.3016\n",
            "Epoch 2/100\n",
            "56/56 [==============================] - 0s 2ms/step - loss: 2.2979\n",
            "Epoch 3/100\n",
            "56/56 [==============================] - 0s 4ms/step - loss: 2.2949\n",
            "Epoch 4/100\n",
            "56/56 [==============================] - 0s 3ms/step - loss: 2.2926\n",
            "Epoch 5/100\n",
            "56/56 [==============================] - 0s 3ms/step - loss: 2.2909\n",
            "Epoch 6/100\n",
            "56/56 [==============================] - 0s 2ms/step - loss: 2.2895\n",
            "Epoch 7/100\n",
            "56/56 [==============================] - 0s 3ms/step - loss: 2.2884\n",
            "Epoch 8/100\n",
            "56/56 [==============================] - 0s 3ms/step - loss: 2.2873\n",
            "Epoch 9/100\n",
            "56/56 [==============================] - 0s 3ms/step - loss: 2.2862\n",
            "Epoch 10/100\n",
            "56/56 [==============================] - 0s 3ms/step - loss: 2.2851\n",
            "Epoch 11/100\n",
            "56/56 [==============================] - 0s 3ms/step - loss: 2.2839\n",
            "Epoch 12/100\n",
            "56/56 [==============================] - 0s 3ms/step - loss: 2.2830\n",
            "Epoch 13/100\n",
            "56/56 [==============================] - 0s 2ms/step - loss: 2.2821\n",
            "Epoch 14/100\n",
            "56/56 [==============================] - 0s 3ms/step - loss: 2.2813\n",
            "Epoch 15/100\n",
            "56/56 [==============================] - 0s 2ms/step - loss: 2.2805\n",
            "Epoch 16/100\n",
            "56/56 [==============================] - 0s 3ms/step - loss: 2.2796\n",
            "Epoch 17/100\n",
            "56/56 [==============================] - 0s 2ms/step - loss: 2.2788\n",
            "Epoch 18/100\n",
            "56/56 [==============================] - 0s 3ms/step - loss: 2.2779\n",
            "Epoch 19/100\n",
            "56/56 [==============================] - 0s 3ms/step - loss: 2.2771\n",
            "Epoch 20/100\n",
            "56/56 [==============================] - 0s 3ms/step - loss: 2.2763\n",
            "Epoch 21/100\n",
            "56/56 [==============================] - 0s 4ms/step - loss: 2.2754\n",
            "Epoch 22/100\n",
            "56/56 [==============================] - 0s 2ms/step - loss: 2.2746\n",
            "Epoch 23/100\n",
            "56/56 [==============================] - 0s 3ms/step - loss: 2.2739\n",
            "Epoch 24/100\n",
            "56/56 [==============================] - 0s 3ms/step - loss: 2.2730\n",
            "Epoch 25/100\n",
            "56/56 [==============================] - 0s 3ms/step - loss: 2.2722\n",
            "Epoch 26/100\n",
            "56/56 [==============================] - 0s 4ms/step - loss: 2.2714\n",
            "Epoch 27/100\n",
            "56/56 [==============================] - 0s 3ms/step - loss: 2.2706\n",
            "Epoch 28/100\n",
            "56/56 [==============================] - 0s 3ms/step - loss: 2.2697\n",
            "Epoch 29/100\n",
            "56/56 [==============================] - 0s 2ms/step - loss: 2.2689\n",
            "Epoch 30/100\n",
            "56/56 [==============================] - 0s 3ms/step - loss: 2.2681\n",
            "Epoch 31/100\n",
            "56/56 [==============================] - 0s 2ms/step - loss: 2.2672\n",
            "Epoch 32/100\n",
            "56/56 [==============================] - 0s 3ms/step - loss: 2.2663\n",
            "Epoch 33/100\n",
            "56/56 [==============================] - 0s 2ms/step - loss: 2.2655\n",
            "Epoch 34/100\n",
            "56/56 [==============================] - 0s 3ms/step - loss: 2.2646\n",
            "Epoch 35/100\n",
            "56/56 [==============================] - 0s 4ms/step - loss: 2.2637\n",
            "Epoch 36/100\n",
            "56/56 [==============================] - 0s 2ms/step - loss: 2.2628\n",
            "Epoch 37/100\n",
            "56/56 [==============================] - 0s 3ms/step - loss: 2.2619\n",
            "Epoch 38/100\n",
            "56/56 [==============================] - 0s 2ms/step - loss: 2.2610\n",
            "Epoch 39/100\n",
            "56/56 [==============================] - 0s 3ms/step - loss: 2.2601\n",
            "Epoch 40/100\n",
            "56/56 [==============================] - 0s 3ms/step - loss: 2.2591\n",
            "Epoch 41/100\n",
            "56/56 [==============================] - 0s 3ms/step - loss: 2.2581\n",
            "Epoch 42/100\n",
            "56/56 [==============================] - 0s 3ms/step - loss: 2.2571\n",
            "Epoch 43/100\n",
            "56/56 [==============================] - 0s 5ms/step - loss: 2.2562\n",
            "Epoch 44/100\n",
            "56/56 [==============================] - 0s 3ms/step - loss: 2.2551\n",
            "Epoch 45/100\n",
            "56/56 [==============================] - 0s 2ms/step - loss: 2.2541\n",
            "Epoch 46/100\n",
            "56/56 [==============================] - 0s 3ms/step - loss: 2.2531\n",
            "Epoch 47/100\n",
            "56/56 [==============================] - 0s 4ms/step - loss: 2.2521\n",
            "Epoch 48/100\n",
            "56/56 [==============================] - 0s 3ms/step - loss: 2.2510\n",
            "Epoch 49/100\n",
            "56/56 [==============================] - 0s 3ms/step - loss: 2.2501\n",
            "Epoch 50/100\n",
            "56/56 [==============================] - 0s 3ms/step - loss: 2.2491\n",
            "Epoch 51/100\n",
            "56/56 [==============================] - 0s 5ms/step - loss: 2.2480\n",
            "Epoch 52/100\n",
            "56/56 [==============================] - 0s 2ms/step - loss: 2.2469\n",
            "Epoch 53/100\n",
            "56/56 [==============================] - 0s 4ms/step - loss: 2.2459\n",
            "Epoch 54/100\n",
            "56/56 [==============================] - 0s 3ms/step - loss: 2.2449\n",
            "Epoch 55/100\n",
            "56/56 [==============================] - 0s 3ms/step - loss: 2.2438\n",
            "Epoch 56/100\n",
            "56/56 [==============================] - 0s 3ms/step - loss: 2.2427\n",
            "Epoch 57/100\n",
            "56/56 [==============================] - 0s 3ms/step - loss: 2.2416\n",
            "Epoch 58/100\n",
            "56/56 [==============================] - 0s 4ms/step - loss: 2.2405\n",
            "Epoch 59/100\n",
            "56/56 [==============================] - 0s 3ms/step - loss: 2.2393\n",
            "Epoch 60/100\n",
            "56/56 [==============================] - 0s 5ms/step - loss: 2.2382\n",
            "Epoch 61/100\n",
            "56/56 [==============================] - 0s 3ms/step - loss: 2.2371\n",
            "Epoch 62/100\n",
            "56/56 [==============================] - 0s 5ms/step - loss: 2.2359\n",
            "Epoch 63/100\n",
            "56/56 [==============================] - 0s 3ms/step - loss: 2.2347\n",
            "Epoch 64/100\n",
            "56/56 [==============================] - 0s 2ms/step - loss: 2.2335\n",
            "Epoch 65/100\n",
            "56/56 [==============================] - 0s 4ms/step - loss: 2.2323\n",
            "Epoch 66/100\n",
            "56/56 [==============================] - 0s 4ms/step - loss: 2.2311\n",
            "Epoch 67/100\n",
            "56/56 [==============================] - 0s 4ms/step - loss: 2.2299\n",
            "Epoch 68/100\n",
            "56/56 [==============================] - 0s 6ms/step - loss: 2.2286\n",
            "Epoch 69/100\n",
            "56/56 [==============================] - 0s 3ms/step - loss: 2.2274\n",
            "Epoch 70/100\n",
            "56/56 [==============================] - 0s 4ms/step - loss: 2.2261\n",
            "Epoch 71/100\n",
            "56/56 [==============================] - 0s 3ms/step - loss: 2.2248\n",
            "Epoch 72/100\n",
            "56/56 [==============================] - 0s 3ms/step - loss: 2.2235\n",
            "Epoch 73/100\n",
            "56/56 [==============================] - 0s 2ms/step - loss: 2.2222\n",
            "Epoch 74/100\n",
            "56/56 [==============================] - 0s 4ms/step - loss: 2.2209\n",
            "Epoch 75/100\n",
            "56/56 [==============================] - 0s 5ms/step - loss: 2.2196\n",
            "Epoch 76/100\n",
            "56/56 [==============================] - 0s 2ms/step - loss: 2.2182\n",
            "Epoch 77/100\n",
            "56/56 [==============================] - 0s 2ms/step - loss: 2.2168\n",
            "Epoch 78/100\n",
            "56/56 [==============================] - 0s 2ms/step - loss: 2.2154\n",
            "Epoch 79/100\n",
            "56/56 [==============================] - 0s 3ms/step - loss: 2.2140\n",
            "Epoch 80/100\n",
            "56/56 [==============================] - 0s 4ms/step - loss: 2.2126\n",
            "Epoch 81/100\n",
            "56/56 [==============================] - 0s 3ms/step - loss: 2.2112\n",
            "Epoch 82/100\n",
            "56/56 [==============================] - 0s 3ms/step - loss: 2.2098\n",
            "Epoch 83/100\n",
            "56/56 [==============================] - 0s 3ms/step - loss: 2.2083\n",
            "Epoch 84/100\n",
            "56/56 [==============================] - 0s 3ms/step - loss: 2.2068\n",
            "Epoch 85/100\n",
            "56/56 [==============================] - 0s 3ms/step - loss: 2.2053\n",
            "Epoch 86/100\n",
            "56/56 [==============================] - 0s 3ms/step - loss: 2.2037\n",
            "Epoch 87/100\n",
            "56/56 [==============================] - 0s 3ms/step - loss: 2.2022\n",
            "Epoch 88/100\n",
            "56/56 [==============================] - 0s 5ms/step - loss: 2.2007\n",
            "Epoch 89/100\n",
            "56/56 [==============================] - 0s 5ms/step - loss: 2.1991\n",
            "Epoch 90/100\n",
            "56/56 [==============================] - 0s 3ms/step - loss: 2.1975\n",
            "Epoch 91/100\n",
            "56/56 [==============================] - 0s 3ms/step - loss: 2.1959\n",
            "Epoch 92/100\n",
            "56/56 [==============================] - 0s 2ms/step - loss: 2.1942\n",
            "Epoch 93/100\n",
            "56/56 [==============================] - 0s 3ms/step - loss: 2.1927\n",
            "Epoch 94/100\n",
            "56/56 [==============================] - 0s 3ms/step - loss: 2.1909\n",
            "Epoch 95/100\n",
            "56/56 [==============================] - 0s 3ms/step - loss: 2.1892\n",
            "Epoch 96/100\n",
            "56/56 [==============================] - 0s 3ms/step - loss: 2.1875\n",
            "Epoch 97/100\n",
            "56/56 [==============================] - 0s 3ms/step - loss: 2.1858\n",
            "Epoch 98/100\n",
            "56/56 [==============================] - 0s 3ms/step - loss: 2.1841\n",
            "Epoch 99/100\n",
            "56/56 [==============================] - 0s 2ms/step - loss: 2.1823\n",
            "Epoch 100/100\n",
            "56/56 [==============================] - 0s 3ms/step - loss: 2.1806\n",
            "1/1 [==============================] - 0s 117ms/step\n"
          ]
        }
      ],
      "source": [
        "#!pip install tensorflow\n",
        "\n",
        "import tensorflow as tf\n",
        "from sklearn import datasets\n",
        "import matplotlib.pyplot as plt\n",
        "import numpy as np\n",
        "from sklearn.model_selection import train_test_split\n",
        "from tensorflow import keras\n",
        "from sklearn.metrics import confusion_matrix\n",
        "from sklearn.metrics import classification_report\n",
        "\n",
        "dataset = datasets.load_digits()\n",
        "x_data = dataset.data\n",
        "y_data = dataset.target\n",
        "\n",
        "# y_data = (dataset.target).astype(np.float32)\n",
        "x_data = (dataset.data).astype(np.float32)\n",
        "\n",
        "x_train, x_test, y_train, y_test = train_test_split(x_data, y_data,\n",
        "                                        test_size=0.0055, random_state=7777)\n",
        "x_train /= 255\n",
        "x_test /= 255\n",
        "\n",
        "y_train = tf.keras.utils.to_categorical(y_train, 10) \n",
        "y_test = tf.keras.utils.to_categorical(y_test, 10)\n",
        "\n",
        "\n",
        "model = keras.Sequential([\n",
        "    keras.layers.Flatten(input_dim=x_train.shape[1]),\n",
        "    keras.layers.Dense(128, activation='relu'),\n",
        "    keras.layers.Dense(10, activation='softmax')\n",
        "])\n",
        "\n",
        "model.compile(optimizer = 'SGD', loss = 'categorical_crossentropy')\n",
        "model.fit(x_train, y_train, epochs= 100)\n",
        "predictions = model.predict(x_test)"
      ]
    },
    {
      "cell_type": "markdown",
      "source": [
        "### 2. 테스트 이미지 출력 및 정답과 예측 값 출력"
      ],
      "metadata": {
        "id": "MoziEhnXHxJZ"
      }
    },
    {
      "cell_type": "code",
      "source": [
        "predictions_labels = []\n",
        "\n",
        "for p in predictions:\n",
        "    predictions_labels.append(np.argmax(p))\n",
        "    \n",
        "\n",
        "y_test_labels = []\n",
        "\n",
        "for p in range(0,len(y_test)):\n",
        "    y_test_labels.append(np.argmax(y_test[p]))\n",
        "\n",
        "for i in range(0,len(x_test)) : \n",
        "    plt.figure(i)\n",
        "    plt.imshow(x_test[i].reshape(8,8))\n",
        "    plt.title(f\"x_test[{i}]\")\n",
        "    plt.colorbar()\n",
        "    plt.show()\n",
        "    print(\"정답:\", y_test_labels[i])\n",
        "    print(\"예측 값:\", predictions_labels[i])"
      ],
      "metadata": {
        "id": "g17eGNoYElbE",
        "colab": {
          "base_uri": "https://localhost:8080/",
          "height": 3020
        },
        "outputId": "b40f502c-8d12-4b60-9963-38f5d0d6c9ce"
      },
      "execution_count": 2,
      "outputs": [
        {
          "output_type": "display_data",
          "data": {
            "text/plain": [
              "<Figure size 432x288 with 2 Axes>"
            ],
            "image/png": "[encoded data removed]"
          },
          "metadata": {
            "needs_background": "light"
          }
        },
        {
          "output_type": "stream",
          "name": "stdout",
          "text": [
            "정답: 7\n",
            "예측 값: 7\n"
          ]
        },
        {
          "output_type": "display_data",
          "data": {
            "text/plain": [
              "<Figure size 432x288 with 2 Axes>"
            ],
            "image/png": "[encoded data removed]"
          },
          "metadata": {
            "needs_background": "light"
          }
        },
        {
          "output_type": "stream",
          "name": "stdout",
          "text": [
            "정답: 9\n",
            "예측 값: 3\n"
          ]
        },
        {
          "output_type": "display_data",
          "data": {
            "text/plain": [
              "<Figure size 432x288 with 2 Axes>"
            ],
            "image/png": "[encoded data removed]"
          },
          "metadata": {
            "needs_background": "light"
          }
        },
        {
          "output_type": "stream",
          "name": "stdout",
          "text": [
            "정답: 2\n",
            "예측 값: 2\n"
          ]
        },
        {
          "output_type": "display_data",
          "data": {
            "text/plain": [
              "<Figure size 432x288 with 2 Axes>"
            ],
            "image/png": "[encoded data removed]"
          },
          "metadata": {
            "needs_background": "light"
          }
        },
        {
          "output_type": "stream",
          "name": "stdout",
          "text": [
            "정답: 4\n",
            "예측 값: 4\n"
          ]
        },
        {
          "output_type": "display_data",
          "data": {
            "text/plain": [
              "<Figure size 432x288 with 2 Axes>"
            ],
            "image/png": "[encoded data removed]"
          },
          "metadata": {
            "needs_background": "light"
          }
        },
        {
          "output_type": "stream",
          "name": "stdout",
          "text": [
            "정답: 1\n",
            "예측 값: 1\n"
          ]
        },
        {
          "output_type": "display_data",
          "data": {
            "text/plain": [
              "<Figure size 432x288 with 2 Axes>"
            ],
            "image/png": "[encoded data removed]"
          },
          "metadata": {
            "needs_background": "light"
          }
        },
        {
          "output_type": "stream",
          "name": "stdout",
          "text": [
            "정답: 2\n",
            "예측 값: 2\n"
          ]
        },
        {
          "output_type": "display_data",
          "data": {
            "text/plain": [
              "<Figure size 432x288 with 2 Axes>"
            ],
            "image/png": "[encoded data removed]"
          },
          "metadata": {
            "needs_background": "light"
          }
        },
        {
          "output_type": "stream",
          "name": "stdout",
          "text": [
            "정답: 7\n",
            "예측 값: 4\n"
          ]
        },
        {
          "output_type": "display_data",
          "data": {
            "text/plain": [
              "<Figure size 432x288 with 2 Axes>"
            ],
            "image/png": "[encoded data removed]"
          },
          "metadata": {
            "needs_background": "light"
          }
        },
        {
          "output_type": "stream",
          "name": "stdout",
          "text": [
            "정답: 3\n",
            "예측 값: 3\n"
          ]
        },
        {
          "output_type": "display_data",
          "data": {
            "text/plain": [
              "<Figure size 432x288 with 2 Axes>"
            ],
            "image/png": "[encoded data removed]"
          },
          "metadata": {
            "needs_background": "light"
          }
        },
        {
          "output_type": "stream",
          "name": "stdout",
          "text": [
            "정답: 9\n",
            "예측 값: 3\n"
          ]
        },
        {
          "output_type": "display_data",
          "data": {
            "text/plain": [
              "<Figure size 432x288 with 2 Axes>"
            ],
            "image/png": "[encoded data removed]"
          },
          "metadata": {
            "needs_background": "light"
          }
        },
        {
          "output_type": "stream",
          "name": "stdout",
          "text": [
            "정답: 6\n",
            "예측 값: 6\n"
          ]
        }
      ]
    },
    {
      "cell_type": "markdown",
      "source": [
        "### 3. Confusion matrix와 Performance report 생성"
      ],
      "metadata": {
        "id": "3q0F7jMiH-cK"
      }
    },
    {
      "cell_type": "code",
      "source": [
        "print(\"Confusion matrix:\",'\\n',confusion_matrix(y_test_labels,predictions_labels))\n",
        "print('\\n')\n",
        "print(\"classification_report:\",'\\n',classification_report(y_test_labels, predictions_labels))"
      ],
      "metadata": {
        "id": "nA2GnuEqH8fB",
        "colab": {
          "base_uri": "https://localhost:8080/",
          "height": 0
        },
        "outputId": "dde98114-7286-4ea7-9afe-0d42ef01d447"
      },
      "execution_count": 3,
      "outputs": [
        {
          "output_type": "stream",
          "name": "stdout",
          "text": [
            "Confusion matrix: \n",
            " [[1 0 0 0 0 0 0]\n",
            " [0 2 0 0 0 0 0]\n",
            " [0 0 1 0 0 0 0]\n",
            " [0 0 0 1 0 0 0]\n",
            " [0 0 0 0 1 0 0]\n",
            " [0 0 0 1 0 1 0]\n",
            " [0 0 2 0 0 0 0]]\n",
            "\n",
            "\n",
            "classification_report: \n",
            "               precision    recall  f1-score   support\n",
            "\n",
            "           1       1.00      1.00      1.00         1\n",
            "           2       1.00      1.00      1.00         2\n",
            "           3       0.33      1.00      0.50         1\n",
            "           4       0.50      1.00      0.67         1\n",
            "           6       1.00      1.00      1.00         1\n",
            "           7       1.00      0.50      0.67         2\n",
            "           9       0.00      0.00      0.00         2\n",
            "\n",
            "    accuracy                           0.70        10\n",
            "   macro avg       0.69      0.79      0.69        10\n",
            "weighted avg       0.68      0.70      0.65        10\n",
            "\n"
          ]
        },
        {
          "output_type": "stream",
          "name": "stderr",
          "text": [
            "/usr/local/lib/python3.8/dist-packages/sklearn/metrics/_classification.py:1318: UndefinedMetricWarning: Precision and F-score are ill-defined and being set to 0.0 in labels with no predicted samples. Use `zero_division` parameter to control this behavior.\n",
            "  _warn_prf(average, modifier, msg_start, len(result))\n",
            "/usr/local/lib/python3.8/dist-packages/sklearn/metrics/_classification.py:1318: UndefinedMetricWarning: Precision and F-score are ill-defined and being set to 0.0 in labels with no predicted samples. Use `zero_division` parameter to control this behavior.\n",
            "  _warn_prf(average, modifier, msg_start, len(result))\n",
            "/usr/local/lib/python3.8/dist-packages/sklearn/metrics/_classification.py:1318: UndefinedMetricWarning: Precision and F-score are ill-defined and being set to 0.0 in labels with no predicted samples. Use `zero_division` parameter to control this behavior.\n",
            "  _warn_prf(average, modifier, msg_start, len(result))\n"
          ]
        }
      ]
    }
  ]
}